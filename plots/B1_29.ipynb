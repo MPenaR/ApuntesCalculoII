{
 "cells": [
  {
   "cell_type": "markdown",
   "metadata": {},
   "source": [
    "$$\n",
    "\\left\\{-1\\le y\\le 1;\\,0\\le x \\le \\sqrt{1 - y^2};\\, 0 \\le z\\le x\\right\\} = \\left\\{0\\le \\rho\\le 1;\\, -\\frac{\\pi}{2}\\le \\theta\\le \\frac{\\pi}{2};\\,0\\le z\\le r\\cos(\\theta)\\right\\} \n",
    "$$"
   ]
  },
  {
   "cell_type": "code",
   "execution_count": 16,
   "metadata": {},
   "outputs": [],
   "source": [
    "import plotly.graph_objects as go\n",
    "import plotly as plt\n",
    "import numpy as np\n",
    "\n",
    "data = []\n",
    "\n",
    "\n",
    "# S1\n",
    "N = 40\n",
    "theta = np.linspace(-np.pi/2,np.pi/2,N)\n",
    "z = np.linspace(0,1,N)\n",
    "Z, THETA = np.meshgrid(z,theta)\n",
    "\n",
    "X = 1*np.cos(THETA)\n",
    "Y = 1*np.sin(THETA)\n",
    "\n",
    "Z = np.where(Z > X, np.nan, Z)\n",
    "\n",
    "data.append(go.Surface(x=X, y=Y, z=Z, colorscale='Viridis'))\n",
    "\n",
    "# S2\n",
    "r = np.linspace(0,1,N)\n",
    "R, THETA = np.meshgrid(r,theta)\n",
    "X = R*np.cos(THETA)\n",
    "Y = R*np.sin(THETA)\n",
    "Z = X\n",
    "\n",
    "data.append(go.Surface(x=X, y=Y, z=Z, colorscale='Viridis'))\n",
    "\n",
    "\n",
    "fig = go.Figure(data=data)\n",
    "fig.write_html('29.html')\n"
   ]
  },
  {
   "cell_type": "code",
   "execution_count": null,
   "metadata": {},
   "outputs": [],
   "source": []
  }
 ],
 "metadata": {
  "kernelspec": {
   "display_name": ".env",
   "language": "python",
   "name": "python3"
  },
  "language_info": {
   "codemirror_mode": {
    "name": "ipython",
    "version": 3
   },
   "file_extension": ".py",
   "mimetype": "text/x-python",
   "name": "python",
   "nbconvert_exporter": "python",
   "pygments_lexer": "ipython3",
   "version": "3.12.6"
  }
 },
 "nbformat": 4,
 "nbformat_minor": 2
}
